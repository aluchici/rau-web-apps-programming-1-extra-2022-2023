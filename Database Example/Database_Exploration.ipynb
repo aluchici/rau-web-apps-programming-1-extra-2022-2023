{
 "cells": [
  {
   "cell_type": "code",
   "execution_count": 1,
   "metadata": {
    "collapsed": true
   },
   "outputs": [],
   "source": [
    "import sqlite3"
   ]
  },
  {
   "cell_type": "code",
   "execution_count": 2,
   "outputs": [],
   "source": [
    "query = \"SELECT * FROM users;\"\n",
    "\n",
    "conn = sqlite3.connect(\"datastore.db\")\n",
    "\n",
    "cursor = conn.cursor()\n",
    "\n",
    "results = cursor.execute(query)"
   ],
   "metadata": {
    "collapsed": false,
    "pycharm": {
     "name": "#%%\n"
    }
   }
  },
  {
   "cell_type": "code",
   "execution_count": 4,
   "outputs": [
    {
     "data": {
      "text/plain": "[(2,\n  'A',\n  'ad@b.c',\n  'Sdkje31!@',\n  'Sdkje31!@',\n  '2022-12-12T15:25:25',\n  '2022-12-12T15:26:20'),\n (3, 'B', 'b@b.c', 'Sdkje31!@', 'Sdkje31!@', None, None)]"
     },
     "execution_count": 4,
     "metadata": {},
     "output_type": "execute_result"
    }
   ],
   "source": [
    "list(results)"
   ],
   "metadata": {
    "collapsed": false,
    "pycharm": {
     "name": "#%%\n"
    }
   }
  },
  {
   "cell_type": "code",
   "execution_count": 5,
   "outputs": [
    {
     "data": {
      "text/plain": "[(2,\n  'A',\n  'ad@b.c',\n  'Sdkje31!@',\n  'Sdkje31!@',\n  '2022-12-12T15:25:25',\n  '2022-12-12T15:26:20'),\n (3, 'B', 'b@b.c', 'Sdkje31!@', 'Sdkje31!@', None, None)]"
     },
     "execution_count": 5,
     "metadata": {},
     "output_type": "execute_result"
    }
   ],
   "source": [
    "results = cursor.execute(query)\n",
    "results.fetchall()"
   ],
   "metadata": {
    "collapsed": false,
    "pycharm": {
     "name": "#%%\n"
    }
   }
  },
  {
   "cell_type": "code",
   "execution_count": 6,
   "outputs": [
    {
     "data": {
      "text/plain": "(2,\n 'A',\n 'ad@b.c',\n 'Sdkje31!@',\n 'Sdkje31!@',\n '2022-12-12T15:25:25',\n '2022-12-12T15:26:20')"
     },
     "execution_count": 6,
     "metadata": {},
     "output_type": "execute_result"
    }
   ],
   "source": [
    "results = cursor.execute(query)\n",
    "results.fetchone()"
   ],
   "metadata": {
    "collapsed": false,
    "pycharm": {
     "name": "#%%\n"
    }
   }
  },
  {
   "cell_type": "code",
   "execution_count": 7,
   "outputs": [
    {
     "data": {
      "text/plain": "[(2,\n  'A',\n  'ad@b.c',\n  'Sdkje31!@',\n  'Sdkje31!@',\n  '2022-12-12T15:25:25',\n  '2022-12-12T15:26:20'),\n (3, 'B', 'b@b.c', 'Sdkje31!@', 'Sdkje31!@', None, None)]"
     },
     "execution_count": 7,
     "metadata": {},
     "output_type": "execute_result"
    }
   ],
   "source": [
    "results = cursor.execute(query)\n",
    "results.fetchmany(10)"
   ],
   "metadata": {
    "collapsed": false,
    "pycharm": {
     "name": "#%%\n"
    }
   }
  },
  {
   "cell_type": "code",
   "execution_count": 8,
   "outputs": [
    {
     "data": {
      "text/plain": "[(2, 'A', 'ad@b.c', 'Sdkje31!@'), (3, 'B', 'b@b.c', 'Sdkje31!@')]"
     },
     "execution_count": 8,
     "metadata": {},
     "output_type": "execute_result"
    }
   ],
   "source": [
    "query = \"SELECT id, name, email, password FROM users;\"\n",
    "results = cursor.execute(query)\n",
    "results.fetchall()"
   ],
   "metadata": {
    "collapsed": false,
    "pycharm": {
     "name": "#%%\n"
    }
   }
  },
  {
   "cell_type": "code",
   "execution_count": 15,
   "outputs": [
    {
     "data": {
      "text/plain": "[('A', 'B', '2022-10-01T22:22:00', 123.41),\n ('A', 'B', '2022-10-15T22:22:00', 245.41),\n ('A', 'B', '2022-10-21T22:22:00', 133.41),\n ('B', 'A', '2022-12-01T22:22:00', 2051.41),\n ('B', 'A', '2022-12-10T21:20:11', 1234.12),\n ('B', 'A', '2022-12-10T21:20:11', 1234.12)]"
     },
     "execution_count": 15,
     "metadata": {},
     "output_type": "execute_result"
    }
   ],
   "source": [
    "query = \"\"\"\n",
    "    SELECT\n",
    "        u1.name as sender,\n",
    "        u2.name as recipient,\n",
    "        transactions.created_at,\n",
    "        amount\n",
    "    FROM\n",
    "        transactions\n",
    "    JOIN users u1 ON u1.id = transactions.user_id\n",
    "    JOIN users u2 ON u2.id = transactions.recipient_id;\n",
    "    \"\"\"\n",
    "results = cursor.execute(query)\n",
    "results.fetchall()"
   ],
   "metadata": {
    "collapsed": false,
    "pycharm": {
     "name": "#%%\n"
    }
   }
  },
  {
   "cell_type": "code",
   "execution_count": 13,
   "outputs": [
    {
     "data": {
      "text/plain": "[('A', 'B', '2022-10-01T22:22:00', 123.41),\n ('A', 'B', '2022-10-15T22:22:00', 245.41)]"
     },
     "execution_count": 13,
     "metadata": {},
     "output_type": "execute_result"
    }
   ],
   "source": [
    "results = cursor.execute(query)\n",
    "results.fetchmany(2)"
   ],
   "metadata": {
    "collapsed": false,
    "pycharm": {
     "name": "#%%\n"
    }
   }
  },
  {
   "cell_type": "code",
   "execution_count": 16,
   "outputs": [
    {
     "data": {
      "text/plain": "[('A', 'B', '2022-10-01T22:22:00', 123.41),\n ('A', 'B', '2022-10-15T22:22:00', 245.41),\n ('A', 'B', '2022-10-21T22:22:00', 133.41),\n ('B', 'A', '2022-12-01T22:22:00', 2051.41),\n ('B', 'A', '2022-12-10T21:20:11', 1234.12),\n ('B', 'A', '2022-12-10T21:20:11', 1234.12),\n ('B', 'A', '2022-12-10T21:20:11', 1234.12)]"
     },
     "execution_count": 16,
     "metadata": {},
     "output_type": "execute_result"
    }
   ],
   "source": [
    "query_insert = \"\"\"INSERT INTO transactions(user_id, recipient_id, amount, created_at)\n",
    "VALUES (3, 2, 1234.12, '2022-12-10T21:20:11')\"\"\"\n",
    "cursor.execute(query_insert)\n",
    "conn.commit()\n",
    "results = cursor.execute(query)\n",
    "results.fetchall()"
   ],
   "metadata": {
    "collapsed": false,
    "pycharm": {
     "name": "#%%\n"
    }
   }
  },
  {
   "cell_type": "code",
   "execution_count": 17,
   "outputs": [],
   "source": [
    "query_update = \"\"\"\n",
    "    UPDATE users\n",
    "    SET\n",
    "        name = 'User 2'\n",
    "    WHERE\n",
    "        name = 'B';\n",
    "    \"\"\"\n",
    "cursor.execute(query_update)\n",
    "conn.commit()"
   ],
   "metadata": {
    "collapsed": false,
    "pycharm": {
     "name": "#%%\n"
    }
   }
  },
  {
   "cell_type": "code",
   "execution_count": 18,
   "outputs": [
    {
     "data": {
      "text/plain": "[('A', 'User 2', '2022-10-01T22:22:00', 123.41),\n ('A', 'User 2', '2022-10-15T22:22:00', 245.41),\n ('A', 'User 2', '2022-10-21T22:22:00', 133.41),\n ('User 2', 'A', '2022-12-01T22:22:00', 2051.41),\n ('User 2', 'A', '2022-12-10T21:20:11', 1234.12),\n ('User 2', 'A', '2022-12-10T21:20:11', 1234.12),\n ('User 2', 'A', '2022-12-10T21:20:11', 1234.12)]"
     },
     "execution_count": 18,
     "metadata": {},
     "output_type": "execute_result"
    }
   ],
   "source": [
    "results = cursor.execute(query)\n",
    "results.fetchall()"
   ],
   "metadata": {
    "collapsed": false,
    "pycharm": {
     "name": "#%%\n"
    }
   }
  },
  {
   "cell_type": "code",
   "execution_count": 19,
   "outputs": [],
   "source": [
    "query_delete = \"DELETE FROM users WHERE id = 3;\"\n",
    "cursor.execute(query_delete)\n",
    "conn.commit()"
   ],
   "metadata": {
    "collapsed": false,
    "pycharm": {
     "name": "#%%\n"
    }
   }
  },
  {
   "cell_type": "code",
   "execution_count": 20,
   "outputs": [
    {
     "data": {
      "text/plain": "[]"
     },
     "execution_count": 20,
     "metadata": {},
     "output_type": "execute_result"
    }
   ],
   "source": [
    "results = cursor.execute(query)\n",
    "results.fetchall()"
   ],
   "metadata": {
    "collapsed": false,
    "pycharm": {
     "name": "#%%\n"
    }
   }
  },
  {
   "cell_type": "code",
   "execution_count": 21,
   "outputs": [
    {
     "data": {
      "text/plain": "[(1, 2, 123.41, '2022-10-01T22:22:00', 3),\n (2, 2, 245.41, '2022-10-15T22:22:00', 3),\n (3, 2, 133.41, '2022-10-21T22:22:00', 3),\n (4, 3, 2051.41, '2022-12-01T22:22:00', 2),\n (5, 3, 1234.12, '2022-12-10T21:20:11', 2),\n (6, 3, 1234.12, '2022-12-10T21:20:11', 2),\n (7, 3, 1234.12, '2022-12-10T21:20:11', 2)]"
     },
     "execution_count": 21,
     "metadata": {},
     "output_type": "execute_result"
    }
   ],
   "source": [
    "query_select_transactions = \"SELECT * FROM transactions;\"\n",
    "results = cursor.execute(query_select_transactions)\n",
    "results.fetchall()"
   ],
   "metadata": {
    "collapsed": false,
    "pycharm": {
     "name": "#%%\n"
    }
   }
  },
  {
   "cell_type": "code",
   "execution_count": null,
   "outputs": [],
   "source": [],
   "metadata": {
    "collapsed": false,
    "pycharm": {
     "name": "#%%\n"
    }
   }
  }
 ],
 "metadata": {
  "kernelspec": {
   "display_name": "Python 3",
   "language": "python",
   "name": "python3"
  },
  "language_info": {
   "codemirror_mode": {
    "name": "ipython",
    "version": 2
   },
   "file_extension": ".py",
   "mimetype": "text/x-python",
   "name": "python",
   "nbconvert_exporter": "python",
   "pygments_lexer": "ipython2",
   "version": "2.7.6"
  }
 },
 "nbformat": 4,
 "nbformat_minor": 0
}